{
 "cells": [
  {
   "cell_type": "code",
   "execution_count": 6,
   "metadata": {},
   "outputs": [],
   "source": [
    "from pyspark.sql import SQLContext\n",
    "from pyspark.sql import SparkSession"
   ]
  },
  {
   "cell_type": "code",
   "execution_count": 7,
   "metadata": {},
   "outputs": [],
   "source": [
    "def create_spark_session():\n",
    "    spark = SparkSession \\\n",
    "        .builder \\\n",
    "        .config(\"spark.jars.packages\", \"org.apache.hadoop:hadoop-aws:2.7.0\") \\\n",
    "        .getOrCreate()\n",
    "    return spark"
   ]
  },
  {
   "cell_type": "code",
   "execution_count": 9,
   "metadata": {},
   "outputs": [],
   "source": [
    "sc = create_spark_session()\n",
    "sqlContext = SQLContext(sc)"
   ]
  },
  {
   "cell_type": "code",
   "execution_count": 11,
   "metadata": {},
   "outputs": [
    {
     "name": "stdout",
     "output_type": "stream",
     "text": [
      "user_df TYPE: <class 'pyspark.sql.dataframe.DataFrame'>\n"
     ]
    },
    {
     "data": {
      "text/plain": [
       "[Row(userId='26', firstName='Ryan', lastName='Smith', gender='M', level='free'),\n",
       " Row(userId='26', firstName='Ryan', lastName='Smith', gender='M', level='free'),\n",
       " Row(userId='26', firstName='Ryan', lastName='Smith', gender='M', level='free'),\n",
       " Row(userId='9', firstName='Wyatt', lastName='Scott', gender='M', level='free'),\n",
       " Row(userId='12', firstName='Austin', lastName='Rosales', gender='M', level='free'),\n",
       " Row(userId='61', firstName='Samuel', lastName='Gonzalez', gender='M', level='free'),\n",
       " Row(userId='61', firstName='Samuel', lastName='Gonzalez', gender='M', level='free'),\n",
       " Row(userId='', firstName=None, lastName=None, gender=None, level='paid'),\n",
       " Row(userId='80', firstName='Tegan', lastName='Levine', gender='F', level='paid'),\n",
       " Row(userId='80', firstName='Tegan', lastName='Levine', gender='F', level='paid')]"
      ]
     },
     "execution_count": 11,
     "metadata": {},
     "output_type": "execute_result"
    }
   ],
   "source": [
    "# To read multiple files\n",
    "user_df = sqlContext.read.parquet('./users')\n",
    "print(f'user_df TYPE: {type(user_df)}')\n",
    "user_df.head(10)"
   ]
  },
  {
   "cell_type": "code",
   "execution_count": 21,
   "metadata": {},
   "outputs": [
    {
     "name": "stdout",
     "output_type": "stream",
     "text": [
      "Total no of users in respective groups are [Row(count(DISTINCT userId)=84)] free subscribers & [Row(count(DISTINCT userId)=23)] paid subscribers.\n"
     ]
    }
   ],
   "source": [
    "# Count number of free & paid users\n",
    "user_df.createOrReplaceTempView(\"user_subscription_type_table\")\n",
    "free_count = sc.sql(\"select count(DISTINCT(userId)) from user_subscription_type_table where level = 'free'\").collect()\n",
    "paid_count = sc.sql(\"select count(DISTINCT(userId)) from user_subscription_type_table where level = 'paid'\").collect()\n",
    "print(f'Total no of users in respective groups are {free_count} free subscribers & {paid_count} paid subscribers.')"
   ]
  },
  {
   "cell_type": "code",
   "execution_count": 23,
   "metadata": {},
   "outputs": [
    {
     "name": "stdout",
     "output_type": "stream",
     "text": [
      "artist_df TYPE: <class 'pyspark.sql.dataframe.DataFrame'> - 11 records\n",
      "+------------------+--------------------+--------------------+---------------+----------------+\n",
      "|         artist_id|         artist_name|     artist_location|artist_latitude|artist_longitude|\n",
      "+------------------+--------------------+--------------------+---------------+----------------+\n",
      "|ARKFYS91187B98E58F|Jeff And Sheri Ea...|                    |           null|            null|\n",
      "|AR10USD1187B99F3F1|Tweeterfriendly M...|Burlington, Ontar...|           null|            null|\n",
      "|ARGSJW91187B9B1D6B|        JennyAnyKind|      North Carolina|       35.21962|       -80.01955|\n",
      "|ARMJAGH1187FB546F3|        The Box Tops|         Memphis, TN|       35.14968|       -90.04892|\n",
      "|AR7G5I41187FB4CE6C|            Adam Ant|     London, England|           null|            null|\n",
      "|ARD7TVE1187B99BFB1|              Casual|     California - LA|           null|            null|\n",
      "|ARNTLGG11E2835DDB9|                 Clp|                    |           null|            null|\n",
      "|ARD0S291187B9B7BF5|             Rated R|                Ohio|           null|            null|\n",
      "|ARKRRTF1187B9984DA|    Sonora Santanera|                    |           null|            null|\n",
      "|AR8ZCNI1187B9A069B|    Planet P Project|                    |           null|            null|\n",
      "|ARXR32B1187FB57099|                 Gob|                    |           null|            null|\n",
      "+------------------+--------------------+--------------------+---------------+----------------+\n",
      "\n"
     ]
    }
   ],
   "source": [
    "artist_df = sqlContext.read.parquet('./artists')\n",
    "print(f'artist_df TYPE: {type(artist_df)} - {artist_df.count()} records')\n",
    "artist_df.show()"
   ]
  },
  {
   "cell_type": "code",
   "execution_count": null,
   "metadata": {},
   "outputs": [],
   "source": []
  },
  {
   "cell_type": "code",
   "execution_count": null,
   "metadata": {},
   "outputs": [],
   "source": []
  }
 ],
 "metadata": {
  "kernelspec": {
   "display_name": "Python 3",
   "language": "python",
   "name": "python3"
  },
  "language_info": {
   "codemirror_mode": {
    "name": "ipython",
    "version": 3
   },
   "file_extension": ".py",
   "mimetype": "text/x-python",
   "name": "python",
   "nbconvert_exporter": "python",
   "pygments_lexer": "ipython3",
   "version": "3.7.3"
  }
 },
 "nbformat": 4,
 "nbformat_minor": 2
}
